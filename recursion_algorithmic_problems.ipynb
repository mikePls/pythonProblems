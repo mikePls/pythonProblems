{
 "cells": [
  {
   "cell_type": "markdown",
   "id": "abdee22a-47b9-42c6-9752-84943865bd54",
   "metadata": {},
   "source": [
    "### Recursion Problems in Python\n",
    "#### Solutions by Mike P."
   ]
  },
  {
   "cell_type": "code",
   "execution_count": 11,
   "id": "f76d79da-dd2e-4cd5-9362-3e10854c5823",
   "metadata": {},
   "outputs": [],
   "source": [
    "\"\"\"\n",
    "Python function sum_of_digits(n) that takes a positive integer n as input and returns\n",
    "the sum of its digits using recursion. For example, if n is 12345, then sum_of_digits(n)\n",
    "should return 1 + 2 + 3 + 4 + 5, which is 15\n",
    "\"\"\"\n",
    "\n",
    "def sum_of_digits(n):\n",
    "    # Base case: if n is 0, return 0\n",
    "    if n == 0:\n",
    "        return 0\n",
    "\n",
    "    # Recursive case: add the last digit of n to the sum of digits of the rest of the number\n",
    "    return (n % 10) + sum_of_digits(n // 10)"
   ]
  },
  {
   "cell_type": "code",
   "execution_count": 3,
   "id": "aeaf6673-8d5b-409c-98e8-7891a1573735",
   "metadata": {},
   "outputs": [
    {
     "data": {
      "text/plain": [
       "10"
      ]
     },
     "execution_count": 3,
     "metadata": {},
     "output_type": "execute_result"
    }
   ],
   "source": [
    "# test\n",
    "sum_of_digits(1234)"
   ]
  },
  {
   "cell_type": "code",
   "execution_count": 4,
   "id": "ebb8bdf3-6e0f-4f8b-a55a-367b774bf681",
   "metadata": {},
   "outputs": [],
   "source": [
    "\"\"\"\n",
    "Function fibo that generates a list of the first n numbers in the Fibonacci sequence.\n",
    "\"\"\"\n",
    "\n",
    "def fibo(lim, f=[0, 1]):\n",
    "    # Base case: When the length of the sequence reaches the limit\n",
    "    if len(f) == lim:\n",
    "        return f\n",
    "    else:\n",
    "        # Calculate the next Fibonacci number by adding the last two numbers\n",
    "        next_fibonacci = f[-1] + f[-2]\n",
    "\n",
    "        # Append the calculated number to the Fibonacci sequence\n",
    "        f.append(next_fibonacci)\n",
    "\n",
    "        # Recursively call the function with the updated sequence\n",
    "        return fibo(lim, f)\n"
   ]
  },
  {
   "cell_type": "code",
   "execution_count": 5,
   "id": "8f7120c5-9de8-4be1-8b3b-eaeb654cdf6b",
   "metadata": {},
   "outputs": [
    {
     "data": {
      "text/plain": [
       "[0, 1, 1, 2, 3, 5, 8, 13, 21, 34]"
      ]
     },
     "execution_count": 5,
     "metadata": {},
     "output_type": "execute_result"
    }
   ],
   "source": [
    "# test\n",
    "fibo(10)"
   ]
  },
  {
   "cell_type": "code",
   "execution_count": 19,
   "id": "ec17300e-a90c-4ba9-932a-74d503c8c7d2",
   "metadata": {},
   "outputs": [],
   "source": [
    "\"\"\"\n",
    "write a recursive function tower_of_hanoi that takes the number of disks (n),\n",
    "and the names of the three rods (source, auxiliary, and target) as arguments. \n",
    "The function should print the specific moves required to solve the puzzle for n disks.\n",
    "\"\"\"\n",
    "def tower_of_hanoi(n, source, auxiliary, target):\n",
    "    # Base case: if there's only one disk, just move it to the target rod\n",
    "    if n == 1:\n",
    "        print(f\"Move disk 1 from rod {source} to rod {target}\")\n",
    "        return\n",
    "\n",
    "    # Recursive case: move the top n-1 disks from source to auxiliary,\n",
    "    # using the target as a temporary holding area\n",
    "    tower_of_hanoi(n-1, source, target, auxiliary)\n",
    "\n",
    "    # Move the remaining (largest) disk from source to target\n",
    "    print(f\"Move disk {n} from rod {source} to rod {target}\")\n",
    "\n",
    "    # Finally, move the n-1 disks from the auxiliary to the target,\n",
    "    # using the source as a temporary holding area\n",
    "    tower_of_hanoi(n-1, auxiliary, source, target)\n"
   ]
  },
  {
   "cell_type": "code",
   "execution_count": 20,
   "id": "5137d9bb-ecc4-4424-9678-98ef79855a30",
   "metadata": {},
   "outputs": [
    {
     "name": "stdout",
     "output_type": "stream",
     "text": [
      "Move disk 1 from rod A to rod C\n",
      "Move disk 2 from rod A to rod B\n",
      "Move disk 1 from rod C to rod B\n",
      "Move disk 3 from rod A to rod C\n",
      "Move disk 1 from rod B to rod A\n",
      "Move disk 2 from rod B to rod C\n",
      "Move disk 1 from rod A to rod C\n"
     ]
    }
   ],
   "source": [
    "# test \n",
    "tower_of_hanoi(3, 'A', 'B', 'C')"
   ]
  },
  {
   "cell_type": "code",
   "execution_count": 7,
   "id": "d6fb0553-c2da-434b-9e80-9464e1c0178e",
   "metadata": {},
   "outputs": [],
   "source": [
    "\"\"\"\n",
    "Write a recursive function reverse_string that takes a string s \n",
    "as its input and returns the string reversed. \n",
    "For example, given the string \"hello\", the function should return \"olleh\".\n",
    "\"\"\"\n",
    "    \n",
    "def reverse_string(s):\n",
    "    # Base case: if the string is empty or has one character, return it as is\n",
    "    if len(s) <= 1:\n",
    "        return s\n",
    "\n",
    "    # Recursive case: reverse the rest of the string and add the first character at the end\n",
    "    return reverse_string(s[1:]) + s[0]\n"
   ]
  },
  {
   "cell_type": "code",
   "execution_count": 8,
   "id": "c41789a4-c402-4ed1-90d9-d21135a773c7",
   "metadata": {},
   "outputs": [
    {
     "name": "stdout",
     "output_type": "stream",
     "text": [
      "olleh\n"
     ]
    }
   ],
   "source": [
    "# test\n",
    "print(reverse_string(\"hello\"))"
   ]
  },
  {
   "cell_type": "code",
   "execution_count": 38,
   "id": "50434cb4-ebb2-4af6-b873-0ab901bca6ca",
   "metadata": {},
   "outputs": [],
   "source": [
    "\"\"\"\n",
    "Write a recursive function power_of_number that calculates the power of a number. \n",
    "The function should take two arguments: the base number x and the exponent n. \n",
    "It should return the value of x raised to the power of n\n",
    "\"\"\"\n",
    "\n",
    "def power_of_number(x, n):\n",
    "    # Base case: any number to the power of 0 is 1\n",
    "    if n == 0:\n",
    "        return 1\n",
    "    # Recursive case: x multiplied by x to the power of (n-1)\n",
    "    return x * power_of_number(x, n - 1)\n",
    "    "
   ]
  },
  {
   "cell_type": "code",
   "execution_count": 40,
   "id": "c1d3c5de-595e-4011-838c-361df69f1633",
   "metadata": {},
   "outputs": [
    {
     "name": "stdout",
     "output_type": "stream",
     "text": [
      "1\n",
      "1000\n"
     ]
    }
   ],
   "source": [
    "# test\n",
    "print(power_of_number(10, 0))\n",
    "print(power_of_number(10, 3))"
   ]
  },
  {
   "cell_type": "code",
   "execution_count": 42,
   "id": "e0202003-7502-4a01-a27f-b946449eb1e6",
   "metadata": {},
   "outputs": [],
   "source": [
    "\"\"\"\n",
    "Write a recursive function count_digits that calculates the number of digits \n",
    "in a non-negative integer. \n",
    "The function should take an integer n and return the number of digits in n.\n",
    "\"\"\"\n",
    "\n",
    "def count_digits(n):\n",
    "    # Base case: if n is less than 10, it has only one digit\n",
    "    if n < 10:\n",
    "        return 1\n",
    "\n",
    "    # Recursive case: reduce the size of the number and add 1 to the count\n",
    "    return 1 + count_digits(n // 10)\n",
    "    "
   ]
  },
  {
   "cell_type": "code",
   "execution_count": 47,
   "id": "da0dc013-c331-41c7-92b2-69dc114973af",
   "metadata": {},
   "outputs": [
    {
     "name": "stdout",
     "output_type": "stream",
     "text": [
      "2\n"
     ]
    }
   ],
   "source": [
    "# test\n",
    "print(count_digits(12))"
   ]
  },
  {
   "cell_type": "code",
   "execution_count": 60,
   "id": "f10647b3-1153-4418-8793-73ad359dcdf0",
   "metadata": {},
   "outputs": [],
   "source": [
    "\"\"\"\n",
    "Write a recursive function sum_natural that calculates the sum of the first n natural numbers. \n",
    "The function should take an integer n and return the sum of all numbers from 1 to n.\n",
    "\"\"\"\n",
    "\n",
    "def sum_natural(n):\n",
    "    # Base case: if n is 0, return 0\n",
    "    if n == 0:\n",
    "        return 0\n",
    "\n",
    "    # Recursively call function and add what the function returns to n\n",
    "    return n + sum_natural(n-1)\n",
    "    "
   ]
  },
  {
   "cell_type": "code",
   "execution_count": 61,
   "id": "ac9a3056-eccd-44cf-bb3e-d78a074fce2b",
   "metadata": {},
   "outputs": [
    {
     "data": {
      "text/plain": [
       "10"
      ]
     },
     "execution_count": 61,
     "metadata": {},
     "output_type": "execute_result"
    }
   ],
   "source": [
    "sum_natural(4)"
   ]
  },
  {
   "cell_type": "code",
   "execution_count": 83,
   "id": "1bdedd6c-731f-425d-ba2f-80b997f43f54",
   "metadata": {},
   "outputs": [],
   "source": [
    "\"\"\"\n",
    "Write a recursive function is_palindrome that checks whether a given string s\n",
    "is a palindrome. A palindrome is a word, phrase, number, or other sequence of\n",
    "characters that reads the same forward and backward (ignoring spaces, punctuation, and capitalization).\n",
    "The function should return True if the string is a palindrome, and False otherwise.\n",
    "\"\"\"\n",
    "\n",
    "def is_palindrome(s:str):\n",
    "    # Keep only characters and digits from given str\n",
    "    s = ''.join([c for c in s if c.isalpha() or c.isdigit()])\n",
    "\n",
    "    # If len is 1 or 0, the string is a palidrome, return true\n",
    "    if len(s) <= 1:\n",
    "        return True\n",
    "\n",
    "    # If the first and last characters match, remove them from the string\n",
    "    # and recursively call the function to eval the remaining\n",
    "    # If they do not match, the sequense fails, and returns false\n",
    "    return is_palindrome(s[1:-1]) if s[0] == s[-1] else False\n",
    "    "
   ]
  },
  {
   "cell_type": "code",
   "execution_count": 85,
   "id": "7ab0115c-e85d-4095-9c59-da9e28895476",
   "metadata": {},
   "outputs": [
    {
     "name": "stdout",
     "output_type": "stream",
     "text": [
      "a12321a\n",
      "12321\n",
      "232\n",
      "3\n",
      "True\n"
     ]
    }
   ],
   "source": [
    "print(is_palindrome('_a12 321a'))"
   ]
  },
  {
   "cell_type": "code",
   "execution_count": 97,
   "id": "6a15bed2-93e0-463b-ac9b-35fb26fdb3da",
   "metadata": {},
   "outputs": [],
   "source": [
    "\"\"\"\n",
    "Problem:\n",
    "\n",
    "Write a function that takes an integer n representing the total number of steps in a staircase\n",
    "and returns the number of distinct ways to climb to the top of the staircase. \n",
    "Each time you can either climb 1 step or 2 steps.\n",
    "\"\"\"\n",
    "\n",
    "def count_ways(n: int, memo=None) -> int:\n",
    "    if memo is None:\n",
    "        memo = {}\n",
    "\n",
    "    # Base cases\n",
    "    if n == 0:\n",
    "        return 1\n",
    "    if n == 1:\n",
    "        return 1\n",
    "\n",
    "    # Check if the result is already computed\n",
    "    if n in memo:\n",
    "        return memo[n]\n",
    "\n",
    "    # Recursive calls\n",
    "    memo[n] = count_ways(n - 1, memo) + count_ways(n - 2, memo)\n",
    "    return memo[n]\n"
   ]
  },
  {
   "cell_type": "code",
   "execution_count": 98,
   "id": "18ba006b-cb65-4464-9ec4-7790fa1ec6c2",
   "metadata": {},
   "outputs": [
    {
     "name": "stdout",
     "output_type": "stream",
     "text": [
      "8\n"
     ]
    }
   ],
   "source": [
    "# test\n",
    "print(count_ways(5))"
   ]
  },
  {
   "cell_type": "code",
   "execution_count": 99,
   "id": "5690647b-f6b6-49a4-9d97-a4513a8801f6",
   "metadata": {},
   "outputs": [
    {
     "name": "stdout",
     "output_type": "stream",
     "text": [
      "Depth of the tree: 3\n"
     ]
    }
   ],
   "source": [
    "\"\"\"\n",
    "Problem:\n",
    "\n",
    "Given a binary tree, write a recursive function to find the depth (or height) of the tree. \n",
    "The depth of a binary tree is the number of nodes along the longest path from the root node down\n",
    "to the farthest leaf node.\n",
    "\"\"\"\n",
    "\n",
    "class TreeNode:\n",
    "    def __init__(self, val=0, left=None, right=None):\n",
    "        self.val = val\n",
    "        self.left = left\n",
    "        self.right = right\n",
    "\n",
    "class Solution:\n",
    "    def depth(self, root: TreeNode) -> int:\n",
    "        # Base case: If the tree is empty (root is None), return 0\n",
    "        if root is None:\n",
    "            return 0\n",
    "\n",
    "        # Recursive case: Compute the depth of each subtree\n",
    "        left_depth = self.depth(root.left)   # Depth of the left subtree\n",
    "        right_depth = self.depth(root.right) # Depth of the right subtree\n",
    "\n",
    "        # Return the maximum of the depths of the two subtrees plus one\n",
    "        # Plus one is for the current node\n",
    "        return max(left_depth, right_depth) + 1\n"
   ]
  },
  {
   "cell_type": "code",
   "execution_count": null,
   "id": "365dc168-f554-416e-a371-93d4f54f2765",
   "metadata": {},
   "outputs": [],
   "source": [
    "# test\n",
    "# declare a tree sequence \n",
    "root = TreeNode(1)\n",
    "root.left = TreeNode(2)\n",
    "root.right = TreeNode(3)\n",
    "root.left.left = TreeNode(4)\n",
    "root.left.right = TreeNode(5)\n",
    "\n",
    "solution = Solution()\n",
    "print(\"Depth of the tree:\", solution.depth(root))"
   ]
  }
 ],
 "metadata": {
  "kernelspec": {
   "display_name": "Python 3 (ipykernel)",
   "language": "python",
   "name": "python3"
  },
  "language_info": {
   "codemirror_mode": {
    "name": "ipython",
    "version": 3
   },
   "file_extension": ".py",
   "mimetype": "text/x-python",
   "name": "python",
   "nbconvert_exporter": "python",
   "pygments_lexer": "ipython3",
   "version": "3.9.5"
  }
 },
 "nbformat": 4,
 "nbformat_minor": 5
}
